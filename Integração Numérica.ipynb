{
 "cells": [
  {
   "cell_type": "markdown",
   "metadata": {},
   "source": [
    "# Integração Numérica\n",
    "\n",
    "## Revisão de derivada\n",
    "\n",
    "Suponhamos que nosso sistema é descrito por uma função $x(t)$. Nosso sistema é descrito por uma função do tempo porque ele é um sistema dinâmico, ou seja, ele evolui de um estado anterior para um estado seguinte de acordo com o tempo. \n",
    "\n",
    "No entanto, ao utilizarmos a teoria de sistemas dinâmicos como ferramenta, raramente descrevemos nossos sistemas através de funções \"explícitas\". Isso ocorre porque é muito difícil para nós conhecermos o comportamento global do sistema antes de estudá-lo. Por exemplo, se estamos estudando o crescimento de uma colônia de bactérias da espécie *E. coli*, a princípio nós não sabemos como parâmetros específicos de taxa de crescimento, eficiência metabólica, meio de cultura etc, afetam esse crescimento, especialmente quando comparados com os de outras espécies, como *B. subtilis*.\n",
    "\n",
    "Portanto, frequentemente descrevemos nosso sistema através de equações de equações diferenciais, ou seja, derivadas. Relembre que uma derivada pode ser vista como uma \"velocidade instantânea\" ou uma taxa de variação. Podemos até não conhecer o comportamento global $x(t)$ do nosso sistema (por exemplo, como a nossa colônia de bactérias se desenvolve ao longo de todo o tempo), mas é muito mais prático para nós como pesquisadores determinarmos como o sistema se comporta no instante específico em que podemos observá-lo. Nós podemos então tentar descrever como esperamos que o sistema se comporte a cada instante que observamos, e por isso utilizamos derivadas. \n",
    "\n",
    "Outra forma de interpretar a derivada é como uma aproximação de uma função. Na figura 1 abaixo, esse processo de aproximação é esquematizado. Nós temos em azul a função $x(t)$ que queremos aproximar, que é não-linear. Em vermelho nós tentamos aproximar a função $x(t)$ durante o invervalo que vai de $t_0$ à $t_1$, através de sua derivada ($\\frac{dx}{dt}$), que é uma função linear cujo gráfico é uma reta de inclinação $\\theta$."
   ]
  },
  {
   "cell_type": "markdown",
   "metadata": {},
   "source": [
    "<img src=\"https://raw.githubusercontent.com/preigemufc/1.2016.1.notebooks/master/eulers_method.png\" alt=\"Método de Euler\" style=\"width:500px;height:400px;\">\n",
    "> **Figura 1.** Esquema de aproximação de uma função não-linear $x(t)$ através de sua derivada $\\frac{dx}{dt}$, que por sua vez pode ser aproximada por $\\frac{\\Delta x}{\\Delta t}$. Observe que, por geometria, a razão $\\frac{\\Delta x}{\\Delta t}$ é dada pela tangente do ângulo $\\theta$ descrito pela reta no intervalo de aproximação."
   ]
  },
  {
   "cell_type": "markdown",
   "metadata": {},
   "source": [
    "Observe que a aproximação não é perfeita, pois a reta vermelha não fornece exatamente os mesmos valores da curva azul dentro do intervalo $[t_0,t_1]$, a não ser pelos próprios pontos $t_0$ e $t_1$, onde os gráficos concordam perfeitamente. Lembre que pela definição de derivada, para termos uma aproximação perfeita no instante $t$, nós devemos aproximar a curva $x(t)$ dentro de um intervalo $\\Delta t = t_1 - t_0$ o menor possível, e representamos esse processo de minimizar o intervalo $t_1 - t_0$ através de um operador chamado limite.\n",
    "$$\n",
    "\\frac{dx}{dt} = \\lim_{\\Delta t \\rightarrow 0} \\frac{\\Delta x}{\\Delta t} = \\lim_{t_0 \\rightarrow t_1} \\frac{x(t_1) - x(t_0)}{t_1 - t_0}\n",
    "$$"
   ]
  },
  {
   "cell_type": "markdown",
   "metadata": {},
   "source": [
    "## Integração de Euler\n",
    "\n",
    "De posse desses conhecimentos, podemos utilizar a derivada $\\frac{dx}{dt}$ para aproximarmos a função $x(t)$ em cada ponto da órbita do nosso sistema. Relembre o conceito de *órbita* (ou *trajetória*) de um sistema dinâmico.\n",
    "> **Definição.** *A órbita de um sistema dinâmico é o conjunto de pontos por ele visitados a cada intervalo de tempo.* \n",
    "\n",
    "Para observar a órbita do nosso sistema, precisamos escolher um valor inicial $x(t_0)$. Em seguida, calculamos a posição do sistema no instante seguinte por $x(t_1) = x(x(t_0))$. Depois, repetimos o procedimento, $x(t_2) = x(x(t_1))$ e assim por diante, até o instante $t_n$. A posição no instante $t_n$ é dada por \n",
    "\n",
    "\\begin{equation}\n",
    "\\begin{array}{c}\n",
    " \\underbrace{x(x(...(x(t_0))))} \\\\ n \\textrm{ vezes}\n",
    "\\end{array} =\n",
    "\\begin{array}{c}\n",
    " \\underbrace{x \\circ x \\circ ... \\circ x(x(t_0))} \\\\ n \\textrm{ vezes}\n",
    "\\end{array} =\n",
    "x^n(t_0)\n",
    "\\end{equation}\n",
    "\n",
    "Nós vamos utilizar informações sobre a derivada de $x(t)$ para estimarmos o valor de $x(t_n)$ em cada intervalo $t_n$, e assim fazermos uma aproximação do comportamento global do nosso sistema a partir de uma condição inicial $x(t_0)$. Vamos aproximar a derivada $\\frac{dx}{dt}$ através de $\\tan(\\theta_n)$ dentro do intervalo $\\Delta t_n = t_n - t_{n - 1}$. Assim, podemos olhar para a definição de derivada acima e ver como podemos estimar o valor de $x(t_n)$ no instante $t_n$ a partir de $x(t_{n - 1})$:\n",
    "\n",
    "$$\n",
    "\\frac{dx}{dt} \\approx \\tan(\\theta_n) = \\frac{\\Delta x}{\\Delta t_n} = \\frac{x(t_n) - x(t_{n - 1})}{t_n - t_{n - 1}}\n",
    "$$\n",
    "\n",
    "Ou seja,\n",
    "\n",
    "\\begin{eqnarray}\n",
    "\\tan(\\theta_n) = \\frac{\\Delta x}{\\Delta t_n}  \\\\\n",
    "\\Delta x = \\Delta t_n \\tan(\\theta_n) \\\\\n",
    "x(t_n) - x(t_{n - 1}) = \\Delta t_n \\tan(\\theta_n) \\\\\n",
    "x(t_n) = x(t_{n - 1}) + \\Delta t_n \\tan(\\theta_n)\n",
    "\\end{eqnarray}\n",
    "\n",
    "E portanto,\n",
    "\n",
    "> **Fórmula de integração numérica de Euler**\n",
    "> $$ x(t_n) \\approx x(t_{n - 1}) + \\Delta t_n \\frac{dx(t_n)}{dt} $$\n",
    "\n",
    "Dessa forma, temos posse de um método para estimar o estado $x(t)$ do nosso sistema a cada instante $t$. Se nós tivermos posse da derivada da nossa função de estado $\\frac{dx}{dt} = f(x)$ como uma função da própria variável de estado $x(t)$, podemos utilizar $f(x)$, um intervalo regular $\\Delta t$ e uma condição inicial $x(t_0)$ para substituir na fórmula de integração e estimar $x(t_n)$ a cada intervalo. Mas como traduzir isso para um código de Python? Abaixo nós escrevemos uma linha de código que traduz diretamente a fórmula de integração de Euler para um comando de Python. \n",
    "\n",
    "```\n",
    "x[t_n] = x[t_n - 1] + f(x[t_n - 1])*dt\n",
    "```\n",
    "\n",
    " **Obs.** No código, escrevemos $\\Delta t$ como `dt`. Não confunda este `dt` do código com o $dt$ da derivada de $x(t)$.\n",
    " \n",
    "O próximo passo é inserir essa linha de código dentro de um *loop* que repita esse processo a partir de um valor inicial durante um intervalo de tempo determinado por nós e que tenha um tamanho definido para cada passo `dt`. Para isso, precisamos determinar o número de passos que vamos calcular dentro de todo o intervalo de integração. Para tanto, devemos criar variáveis que guardem esses valores. Por fim, é mais conveniente para nós colocarmos todo esse código dentro de uma função do Python definida por nós, porque assim podemos reutilizar este código facilmente para qualquer equação diferencial que pretendermos estudar."
   ]
  },
  {
   "cell_type": "code",
   "execution_count": 1,
   "metadata": {
    "collapsed": false
   },
   "outputs": [],
   "source": [
    "# Antes de tudo, importamos o pacote matemático numpy \n",
    "# que nos permite manipular matrizes e vetores.\n",
    "import numpy as np\n",
    "\n",
    "# Declaramos uma função onde colocaremos todo o código\n",
    "# para integração de Euler, que poderemos invocar facilmente\n",
    "# sempre que quisermos integrar numericamente uma equação\n",
    "# diferencial.\n",
    "def solveE(f, x_t0, time, dt):\n",
    "    'Integra numericamente um sistema de equações diferenciais\\\n",
    "    através do método de Euler. Como argumentos recebe uma\\\n",
    "    função \"f\", um valor inicial \"x_t0\", um intervalo de\\\n",
    "    integração \"time\" e um tamanho de passo \"dt\". Retorna dois\\\n",
    "    vetores: \"t\" o eixo do tempo e \"x\" a trajetória do sistema'    \n",
    "    # A descrição acima é forma de documentar a nossa função.\n",
    "    # Abaixo, determinamos o número de passos. Em Python 3,\n",
    "    # o operador divisão \"/\" retorna um float (número racional),\n",
    "    # mas nosso número de passos precisa ser do tipo int.\n",
    "    steps = int(time/dt)\n",
    "    # Abaixo nós criamos uma lista que vai de zero até o final\n",
    "    # do intervalo de integração (\"time\") em passos de tamanho\n",
    "    # dt. Ela represente o eixo do tempo \"t\".\n",
    "    t = np.arange(0,time,dt)\n",
    "    x = [0]*(steps)\n",
    "    # Esta é uma forma de declarar e inicializar uma lista\n",
    "    # de zeros com tamanho para armazenar todos os passos.\n",
    "    # A lista \"x\" armazerá todos os valores x(t).\n",
    "    # Abaixo armazenamos a condição inicial.\n",
    "    x[0] = x_t0\n",
    "    for t_n in range(1,steps):\n",
    "        # O nosso loop terá \"steps\" passos e \"t\" irá variar \n",
    "        # de 1 à \"steps\". O valor de \"t\" servirá para acessarmos\n",
    "        # e armazenarmos valores dentro da lista \"x\".\n",
    "        x[t_n] = x[t_n - 1] + f(x[t_n - 1])*dt\n",
    "    # Nossa função retorna a o eixo do tempo \"t\" e a \n",
    "    # trajetória estimada \"x\" durante esse intervalo.\n",
    "    # Para podermos plotar gráfitos, precisamos converter \"x\"\n",
    "    # de uma lista do Python para um vetor do Numpy.\n",
    "    return t, x"
   ]
  },
  {
   "cell_type": "markdown",
   "metadata": {},
   "source": [
    "Escrever uma descrição para documentar nossas funções logo abaixo da sua declaração nos permite extrair informações delas utilizando o comando `help()`."
   ]
  },
  {
   "cell_type": "code",
   "execution_count": 2,
   "metadata": {
    "collapsed": false
   },
   "outputs": [
    {
     "name": "stdout",
     "output_type": "stream",
     "text": [
      "Help on function solveE in module __main__:\n",
      "\n",
      "solveE(f, x_t0, time, dt)\n",
      "    Integra numericamente um sistema de equações diferenciais    através do método de Euler. Como argumentos recebe uma    função \"f\", um valor inicial \"x_t0\", um intervalo de    integração \"time\" e um tamanho de passo \"dt\". Retorna dois    vetores: \"t\" o eixo do tempo e \"x\" a trajetória do sistema\n",
      "\n"
     ]
    }
   ],
   "source": [
    "help(solveE)"
   ]
  },
  {
   "cell_type": "markdown",
   "metadata": {
    "collapsed": true
   },
   "source": [
    "## Integrando sistemas de equações diferenciais\n",
    "\n",
    "### Crescimento logístico\n",
    "\n",
    "Que sistemas de equações diferenciais vamos utilizar para testar nossa função? Podemos utilizar um modelo populacional, no caso, o [crescimento logístico](http://mathworld.wolfram.com/LogisticEquation.html). Suponha que temos uma colônia de bactérias cujo crescimento pode ser estimado através da sequinte equação diferencial:\n",
    "\n",
    "\\begin{eqnarray}\n",
    "\\frac{dx}{dt} = g(x) = xr\\left(1 - \\frac{x}{K}\\right) \\\\\n",
    "g(x) = -r\\frac{x^2}{K} + rx\n",
    "\\end{eqnarray}\n",
    "\n",
    "Onde\n",
    "- **r** crescimento populacional *per capita*\n",
    "- **K** *capacidade máxima* do meio (população máxima que os recursos do meio podem suportar)\n",
    "\n",
    "Observe que quando $x = K$, o meio não consegue mais suportar o crescimento e a população para de crescer, $\\frac{dx}{dt} = 0$. \n",
    "\n",
    "Vamos escrever um código para representar $g(x)$."
   ]
  },
  {
   "cell_type": "code",
   "execution_count": 3,
   "metadata": {
    "collapsed": true
   },
   "outputs": [],
   "source": [
    "def g_x(x, r = .5, k = 10):\n",
    "    'Determina a taxa de crescimento de uma população \"x\"\\\n",
    "    de acordo com o modelo logístico.'\n",
    "    return -r*(x**2)/k + r*x"
   ]
  },
  {
   "cell_type": "markdown",
   "metadata": {},
   "source": [
    "Nós colocamos as os parâmetros `r` e `k` como variáveis padrão da nossa função `g_x` para que não seja preciso declarar esses valores quando invocarmos a função. Por exemplo:"
   ]
  },
  {
   "cell_type": "code",
   "execution_count": 4,
   "metadata": {
    "collapsed": false,
    "scrolled": true
   },
   "outputs": [
    {
     "data": {
      "text/plain": [
       "0.0"
      ]
     },
     "execution_count": 4,
     "metadata": {},
     "output_type": "execute_result"
    }
   ],
   "source": [
    "g_x(10)"
   ]
  },
  {
   "cell_type": "markdown",
   "metadata": {},
   "source": [
    "Mas podemos invocar nossa função `g_x` com até 3 argumentos, se quisermos alterar os valores de $r$ e $K$:"
   ]
  },
  {
   "cell_type": "code",
   "execution_count": 5,
   "metadata": {
    "collapsed": false
   },
   "outputs": [
    {
     "data": {
      "text/plain": [
       "2.5"
      ]
     },
     "execution_count": 5,
     "metadata": {},
     "output_type": "execute_result"
    }
   ],
   "source": [
    "g_x(10,.5,20)"
   ]
  },
  {
   "cell_type": "markdown",
   "metadata": {},
   "source": [
    "Agora, vamos testar nosso código para integrar equações diferenciais com a equação do crescimento logístico:"
   ]
  },
  {
   "cell_type": "code",
   "execution_count": 6,
   "metadata": {
    "collapsed": true
   },
   "outputs": [],
   "source": [
    "x_0 = 1\n",
    "time = 15\n",
    "dt = .01\n",
    "# como a função retorna 2 resultados, nós precisamos\n",
    "# guardá-los em 2 variáveis, ou então numa lista\n",
    "t1,x1 = solveE(g_x,x_0,time,dt)"
   ]
  },
  {
   "cell_type": "markdown",
   "metadata": {},
   "source": [
    "Os comandos abaixo *plotam* um gráfico do nosso sistema."
   ]
  },
  {
   "cell_type": "code",
   "execution_count": 7,
   "metadata": {
    "collapsed": false
   },
   "outputs": [
    {
     "data": {
      "text/plain": [
       "[<matplotlib.lines.Line2D at 0x26c335af7f0>]"
      ]
     },
     "execution_count": 7,
     "metadata": {},
     "output_type": "execute_result"
    },
    {
     "data": {
      "image/png": "[encoded data removed]",
      "text/plain": [
       "<matplotlib.figure.Figure at 0x26c317507f0>"
      ]
     },
     "metadata": {},
     "output_type": "display_data"
    }
   ],
   "source": [
    "# exibe gráficos neste documento\n",
    "%matplotlib inline \n",
    "# importa o pacote gráfico pylab (Matplotlib)\n",
    "import pylab as py \n",
    "# plota o gráfico\n",
    "py.plot(t1,x1) "
   ]
  },
  {
   "cell_type": "markdown",
   "metadata": {},
   "source": [
    "### Modelo predador-presa de Lotka-Volterra\n",
    "\n",
    "O que acontece quando temos um sistema com mais do que uma variável de estado? O que acontece, por exemplo, quando temos duas populações evoluindo e interagindo, ao invés de apenas uma? Bom, para estudar isso, nós precisamos de mais do que uma equação diferencial. Entretanto, os métodos que nós utilizamos para uma equação se estendem para sistemas de quaiser número de equações! Nós não precisamos mudar nossa função `solveE`, e podemos estender nossa análise da derivada de $x(t)$ à sistemas de equações envolvendo várias derivadas.\n",
    "\n",
    "Para demonstrar a função que escrevemos em Python para integrar numericamente sistemas de equações diferenciais, vamos tentar integrar um sistema com duas equações diferenciais. Para modelar um sistema biológico em que duas populações interagem ecologicamente através da predação, [Lotka e Volterra](http://mathworld.wolfram.com/Lotka-VolterraEquations.html) cada um independentemente desenvolveu o seguinte modelo:\n",
    "\n",
    "\\begin{eqnarray}\n",
    "\\frac{dx}{dt} =  ax - bxy \\\\\n",
    "\\frac{dy}{dt} = -cy + dxy\n",
    "\\end{eqnarray}\n",
    "\n",
    "Onde\n",
    "\n",
    "- $x$: população de presas\n",
    "- $y$: população de predadores\n",
    "- $a$: taxa de natalidade de presas\n",
    "- $b$: taxa de predação de $x$ por $y$\n",
    "- $c$: taxa de mortalidade de predadores\n",
    "- $d$: eficiência de conversão de biomassa de presa para predador\n",
    "\n",
    "Vamos escrever uma função em Python que represente o modelo de Lotka-Volterra. Para tanto, como primeiro argumento da nossa função nós temos que passar uma lista `v` com 2 valores, um para cada variável de estado. No corpo da função nós vamos extrair esses valores e lhes dar nomes `x` e `y` apenas por clareza. "
   ]
  },
  {
   "cell_type": "code",
   "execution_count": 8,
   "metadata": {
    "collapsed": true
   },
   "outputs": [],
   "source": [
    "def v_xy(v, a = 1.5, b = 1, c = 3, d = 1):\n",
    "    'Determina a evolução de um sistema predador-presa\\\n",
    "    do tipo Lotka-Volterra no instante \"t\". Retorna um\\\n",
    "    vetor \"v_n\" com \"v_n[0]\" sendo as presas e \"v_n[1]\"\\\n",
    "    os predadores.'\n",
    "    x = v[0]\n",
    "    y = v[1]\n",
    "    dx = a*x - b*x*y\n",
    "    dy = -c*y + d*x*y\n",
    "    vn = np.array([dx,dy])\n",
    "    return vn    "
   ]
  },
  {
   "cell_type": "markdown",
   "metadata": {},
   "source": [
    "**Observação importante.** Na penúltima linha acima nós pegamos a lista `vn` que queremos retornar e a convertemos num vetor no Numpy. Nós fazemos isso para que, durante a etapa de integração do sistema pela função `solveE`, nós possamos multiplicar esse vetor pelo número `dt`. Por exemplo, se você pegar uma lista em Python e tentar multiplicá-la por um número, o seguinte acontece:"
   ]
  },
  {
   "cell_type": "code",
   "execution_count": 9,
   "metadata": {
    "collapsed": false
   },
   "outputs": [
    {
     "data": {
      "text/plain": [
       "[1, 2, 1, 2, 1, 2]"
      ]
     },
     "execution_count": 9,
     "metadata": {},
     "output_type": "execute_result"
    }
   ],
   "source": [
    "[1,2]*3"
   ]
  },
  {
   "cell_type": "markdown",
   "metadata": {},
   "source": [
    "Nós precisamos converter essa lista para um vetor do Numpy se não quisermos que nosso código forneça algum erro estranho:"
   ]
  },
  {
   "cell_type": "code",
   "execution_count": 10,
   "metadata": {
    "collapsed": false,
    "scrolled": true
   },
   "outputs": [
    {
     "data": {
      "text/plain": [
       "array([3, 6])"
      ]
     },
     "execution_count": 10,
     "metadata": {},
     "output_type": "execute_result"
    }
   ],
   "source": [
    "np.array([1,2])*3"
   ]
  },
  {
   "cell_type": "markdown",
   "metadata": {},
   "source": [
    "Abaixo nós integramos o sistema utilizando nossa função. Note que como condição inicial nós passamos uma lista com 2 valores, um sendo a condição inicial de presas $x(t_0)$ e outro sendo a condição inicial de predadores $y(t_0)$. "
   ]
  },
  {
   "cell_type": "code",
   "execution_count": 11,
   "metadata": {
    "collapsed": false
   },
   "outputs": [],
   "source": [
    "v_0 = [10,1]\n",
    "time = 20\n",
    "dt = .01\n",
    "t2,v2 = solveE(v_xy,v_0,time,dt)"
   ]
  },
  {
   "cell_type": "markdown",
   "metadata": {},
   "source": [
    "Em seguida, nós plotamos o resultado. Devido a que a função `v_xy` retorna uma lista, o processo de extrair os dados fica um pouco mais complicado, e nós vamos omitir a explicação para essa sintaxe."
   ]
  },
  {
   "cell_type": "code",
   "execution_count": 12,
   "metadata": {
    "collapsed": false
   },
   "outputs": [
    {
     "data": {
      "text/plain": [
       "[<matplotlib.lines.Line2D at 0x26c335fd518>]"
      ]
     },
     "execution_count": 12,
     "metadata": {},
     "output_type": "execute_result"
    },
    {
     "data": {
      "image/png": "[encoded data removed]",
      "text/plain": [
       "<matplotlib.figure.Figure at 0x26c335fdc18>"
      ]
     },
     "metadata": {},
     "output_type": "display_data"
    }
   ],
   "source": [
    "py.plot(t2,np.array(v2).T[0])\n",
    "py.plot(t2,np.array(v2).T[1])"
   ]
  },
  {
   "cell_type": "markdown",
   "metadata": {},
   "source": [
    "> **Azul:** presas. **Verde:** predadores."
   ]
  },
  {
   "cell_type": "markdown",
   "metadata": {},
   "source": [
    "<a rel=\"license\" href=\"http://creativecommons.org/licenses/by-nc/4.0/\"><img alt=\"Creative Commons License\" style=\"border-width:0\" src=\"https://i.creativecommons.org/l/by-nc/4.0/88x31.png\" /></a><br />This work is licensed under a <a rel=\"license\" href=\"http://creativecommons.org/licenses/by-nc/4.0/\">Creative Commons Attribution-NonCommercial 4.0 International License</a>."
   ]
  }
 ],
 "metadata": {
  "kernelspec": {
   "display_name": "Python 3",
   "language": "python",
   "name": "python3"
  },
  "language_info": {
   "codemirror_mode": {
    "name": "ipython",
    "version": 3
   },
   "file_extension": ".py",
   "mimetype": "text/x-python",
   "name": "python",
   "nbconvert_exporter": "python",
   "pygments_lexer": "ipython3",
   "version": "3.5.1"
  }
 },
 "nbformat": 4,
 "nbformat_minor": 0
}
