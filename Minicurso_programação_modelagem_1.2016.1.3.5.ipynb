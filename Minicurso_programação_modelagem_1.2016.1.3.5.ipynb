{
 "cells": [
  {
   "cell_type": "code",
   "execution_count": 2,
   "metadata": {
    "collapsed": true
   },
   "outputs": [],
   "source": [
    "# Pré-iGEM UFC\n",
    "## Minicurso de Programação e Modelagem em Biologia 1/2016.1\n",
    "#### Renato Marques de Oliveira"
   ]
  },
  {
   "cell_type": "markdown",
   "metadata": {},
   "source": [
    "## Parte 1 - Programação"
   ]
  },
  {
   "cell_type": "markdown",
   "metadata": {},
   "source": [
    "### Exemplo 1\n",
    "O código a seguir inicia nosso script para a aula. Ele carrega os pacotes que iremos utilizar.\n",
    "Antes de mais nada, carregamos o pacote de funções matemáticas **Numpy** e o pacote de criação de gráficos \n",
    "**Matplotlib**, que é distribuído sob o nome de \"pylab\". \n",
    "\n",
    "A primeira linha `%matplotlib inline` foi inserida para ativar a compatibilidade entre este *notebook* e o módulo Matplotlib, visto que o Jupyter Notebook é um ambiente de Python especial."
   ]
  },
  {
   "cell_type": "code",
   "execution_count": 3,
   "metadata": {
    "collapsed": false
   },
   "outputs": [],
   "source": [
    "%matplotlib inline\n",
    "import numpy as np\n",
    "import pylab as py"
   ]
  },
  {
   "cell_type": "code",
   "execution_count": 4,
   "metadata": {
    "collapsed": false
   },
   "outputs": [
    {
     "data": {
      "text/plain": [
       "array([3, 2, 1])"
      ]
     },
     "execution_count": 4,
     "metadata": {},
     "output_type": "execute_result"
    }
   ],
   "source": [
    "v1 = np.array([3,2,1])\n",
    "v1"
   ]
  },
  {
   "cell_type": "code",
   "execution_count": 5,
   "metadata": {
    "collapsed": false
   },
   "outputs": [
    {
     "data": {
      "text/plain": [
       "array([1, 2, 3])"
      ]
     },
     "execution_count": 5,
     "metadata": {},
     "output_type": "execute_result"
    }
   ],
   "source": [
    "v1.sort()\n",
    "v1"
   ]
  },
  {
   "cell_type": "code",
   "execution_count": 6,
   "metadata": {
    "collapsed": false
   },
   "outputs": [
    {
     "data": {
      "text/plain": [
       "array([[  1.57824140e-311,   0.00000000e+000],\n",
       "       [  6.83067075e-315,   1.57822601e-311]])"
      ]
     },
     "execution_count": 6,
     "metadata": {},
     "output_type": "execute_result"
    }
   ],
   "source": [
    "v2 = np.empty([2,2])\n",
    "v2"
   ]
  },
  {
   "cell_type": "markdown",
   "metadata": {},
   "source": [
    "### Exemplo 2"
   ]
  },
  {
   "cell_type": "code",
   "execution_count": 7,
   "metadata": {
    "collapsed": false
   },
   "outputs": [
    {
     "data": {
      "text/plain": [
       "(1, 2)"
      ]
     },
     "execution_count": 7,
     "metadata": {},
     "output_type": "execute_result"
    }
   ],
   "source": [
    "class Complex:\n",
    "    def __init__(x, realpart, imagpart): # este \"x\" só pertence ao escopo deste bloco de definição de classe\n",
    "        x.r = realpart\n",
    "        x.i = imagpart\n",
    "        \n",
    "x = Complex(2,1) # este \"x\" é diferente do x utilizado na definição de classe acima\n",
    "x.i,x.r"
   ]
  },
  {
   "cell_type": "markdown",
   "metadata": {},
   "source": [
    "### Exemplo 3\n",
    " `def f(x,c)` é a sintaxe de declaração de uma função chamada\n",
    " `f` que recebe `x` e `c` como argumentos. Os dois pontos `:` denotam que há um\n",
    " bloco de comandos a partir da linha seguinte, pertencente à\n",
    " função `f`. Neste caso, o bloco é formado por apenas um comando:\n",
    " retorne o valor de `x**2 + c`, lembrando que `x**2` é a sintaxe do\n",
    " Python para a função quadrado. "
   ]
  },
  {
   "cell_type": "code",
   "execution_count": 8,
   "metadata": {
    "collapsed": false
   },
   "outputs": [
    {
     "data": {
      "text/plain": [
       "array([-2.        , -1.86206897, -1.72413793, -1.5862069 , -1.44827586,\n",
       "       -1.31034483, -1.17241379, -1.03448276, -0.89655172, -0.75862069,\n",
       "       -0.62068966, -0.48275862, -0.34482759, -0.20689655, -0.06896552,\n",
       "        0.06896552,  0.20689655,  0.34482759,  0.48275862,  0.62068966,\n",
       "        0.75862069,  0.89655172,  1.03448276,  1.17241379,  1.31034483,\n",
       "        1.44827586,  1.5862069 ,  1.72413793,  1.86206897,  2.        ])"
      ]
     },
     "execution_count": 8,
     "metadata": {},
     "output_type": "execute_result"
    }
   ],
   "source": [
    "def f(x,c):\n",
    "    return x**2 + c \n",
    "\n",
    "x = np.linspace(-2,2,30)\n",
    "x"
   ]
  },
  {
   "cell_type": "markdown",
   "metadata": {},
   "source": [
    "A função `linspace(a,b,c)` retorna um vetor de `c` elementos, iniciando em `a`, terminando em `b`, igualmente espaçados. Ela gera a sequência de valores de `x` que vamos passar à função para plotagem.\n",
    "\n",
    "A função `plot(a,b)` plota o vetor `b` contra o vetor `a`, ambos de mesmo tamanho, na forma de pontos ${(a_1,b_1),...,(a_n,b_n)}$ se `a = [a1,...,an]` e `b = [b1,...,bn]`. O comando`f(x,.5)` gera um vetor de 30 elementos que corresponde à imagem do vetor `x` sob a função `f`."
   ]
  },
  {
   "cell_type": "code",
   "execution_count": 9,
   "metadata": {
    "collapsed": false
   },
   "outputs": [
    {
     "data": {
      "image/png": "[encoded data removed]",
      "text/plain": [
       "<matplotlib.figure.Figure at 0x2e7c0d95c18>"
      ]
     },
     "metadata": {},
     "output_type": "display_data"
    }
   ],
   "source": [
    "p1 = py.plot(x, f(x,.05))\n",
    "#p2 = py.plot([0,2],[0,2])\n",
    "#show()\n",
    "# experimente apagar a porção \"p1 = \" do código acima\n",
    "# experimente descomentar a segunda linha"
   ]
  },
  {
   "cell_type": "markdown",
   "metadata": {},
   "source": [
    "Normalmente o Python não mostra instantaneamente os gráficos gerados, então precisamos pedir para que eles sejam mostrados através da função **show** do módulo Matplotlib. Mas o Jupyter Notebook é configurado para exibir os gráficos da função **plot** automaticamente sem precisarmos invocar o **show**.\n",
    "\n",
    "### Exercício 1\n",
    "\n",
    "* http://docs.scipy.org/doc/numpy/reference/routines.array-creation.html\n",
    "* http://docs.scipy.org/doc/numpy/reference/routines.random.html\n",
    "* http://docs.scipy.org/doc/numpy/reference/routines.statistics.html\n",
    "* http://docs.scipy.org/doc/numpy/reference/routines.math.html"
   ]
  },
  {
   "cell_type": "code",
   "execution_count": 10,
   "metadata": {
    "collapsed": false
   },
   "outputs": [
    {
     "data": {
      "text/plain": [
       "([1, 2, 3], [[1, 2, 3], [1, 2, 3]], range(0, 10))"
      ]
     },
     "execution_count": 10,
     "metadata": {},
     "output_type": "execute_result"
    }
   ],
   "source": [
    "v1 = [1,2,3]\n",
    "v2 = [v1,v1]\n",
    "v3 = range(10)\n",
    "v1,v2,v3"
   ]
  },
  {
   "cell_type": "code",
   "execution_count": 11,
   "metadata": {
    "collapsed": false
   },
   "outputs": [],
   "source": [
    "# exclua este comentário"
   ]
  },
  {
   "cell_type": "markdown",
   "metadata": {},
   "source": [
    "### Exercício 2\n",
    "#### Exemplo:"
   ]
  },
  {
   "cell_type": "code",
   "execution_count": 12,
   "metadata": {
    "collapsed": false
   },
   "outputs": [
    {
     "name": "stdout",
     "output_type": "stream",
     "text": [
      "1.0\n",
      "1.0\n",
      "1.0\n",
      "1.0\n",
      "1.0\n",
      "1.0\n",
      "1.0\n",
      "1.0\n",
      "1.0\n",
      "1.0\n"
     ]
    }
   ],
   "source": [
    "x = np.ones(10)\n",
    "for i in x:\n",
    "    if np.sin(i) > .5:\n",
    "        print(i)"
   ]
  },
  {
   "cell_type": "code",
   "execution_count": 13,
   "metadata": {
    "collapsed": false
   },
   "outputs": [],
   "source": [
    "# exclua este comentário"
   ]
  },
  {
   "cell_type": "markdown",
   "metadata": {},
   "source": [
    "### Exercício 3\n",
    "O código usado no exemplo abaixo foi escrito com funções práticas e atalhos para facilitar a leitura e por simplicidade. Mas como você faria sem lançar mão dessas ferramentas?\n",
    "#### Exemplo:"
   ]
  },
  {
   "cell_type": "code",
   "execution_count": 14,
   "metadata": {
    "collapsed": false
   },
   "outputs": [
    {
     "data": {
      "text/plain": [
       "[<matplotlib.lines.Line2D at 0x2e7c1230ac8>]"
      ]
     },
     "execution_count": 14,
     "metadata": {},
     "output_type": "execute_result"
    },
    {
     "data": {
      "image/png": "[encoded data removed]",
      "text/plain": [
       "<matplotlib.figure.Figure at 0x2e7c0e4dfd0>"
      ]
     },
     "metadata": {},
     "output_type": "display_data"
    }
   ],
   "source": [
    "x = np.ones(10)\n",
    "\n",
    "def media(vetor):\n",
    "    return np.sum(vetor)/len(vetor)\n",
    "    \n",
    "a = np.random.rand(30,3)\n",
    "#y = np.zeros(30)\n",
    "\n",
    "y = [media(i) for i in a] #opa! Trapaça!\n",
    "    \n",
    "py.plot(y,'b.')"
   ]
  },
  {
   "cell_type": "code",
   "execution_count": 15,
   "metadata": {
    "collapsed": false
   },
   "outputs": [],
   "source": [
    "# exclua este comentário"
   ]
  },
  {
   "cell_type": "markdown",
   "metadata": {},
   "source": [
    "## Parte 2 - Integração Numérica\n",
    "\n",
    "### Exercício 4\n",
    "\n",
    "Defina uma função que aplique o procedimento abaixo à uma equação diferencial da sua escolha, e que permita ao usuário decidir tanto a condição inicial $F(t_0)$ quanto o número de passos `steps`. \n",
    "$$ F(t_{n+1}) \\approx F(t_n) + F'(t_n)(\\Delta t) $$\n",
    "#### Exemplo:\n",
    "Vamos aplicar o procedimento à função $f'(t) = -f(t)^2 + 2$"
   ]
  },
  {
   "cell_type": "code",
   "execution_count": 16,
   "metadata": {
    "collapsed": false,
    "scrolled": true
   },
   "outputs": [
    {
     "data": {
      "text/plain": [
       "[<matplotlib.lines.Line2D at 0x2e7c129bb38>]"
      ]
     },
     "execution_count": 16,
     "metadata": {},
     "output_type": "execute_result"
    },
    {
     "data": {
      "image/png": "[encoded data removed]",
      "text/plain": [
       "<matplotlib.figure.Figure at 0x2e7c1205240>"
      ]
     },
     "metadata": {},
     "output_type": "display_data"
    }
   ],
   "source": [
    "def Fun(f,t=0):\n",
    "    return -f**2 + 2   # o que acontece se você mudar o valor da constante (2)? você consegue explicar porquê?\n",
    "                       # e se você mudar o sinal do termo -x**2?\n",
    "def solveF(F, F_t0, time, dt):\n",
    "    steps = (int(time/dt))\n",
    "    F_t = list(np.zeros(steps))\n",
    "    F_t[0] = F_t0\n",
    "    for t in range(1,steps):\n",
    "        F_t[t] = F_t[t - 1] + F(F_t[t - 1])*dt\n",
    "    return F_t\n",
    "\n",
    "t_0 = 0\n",
    "time = 10\n",
    "dt = .01\n",
    "F_t0 = -1.4\n",
    "\n",
    "x_axis = np.arange(0,time,dt)\n",
    "y_axis = solveF(Fun,F_t0,time,dt)\n",
    "py.plot(x_axis,y_axis)"
   ]
  },
  {
   "cell_type": "code",
   "execution_count": 17,
   "metadata": {
    "collapsed": false
   },
   "outputs": [
    {
     "data": {
      "text/plain": [
       "[<matplotlib.lines.Line2D at 0x2e7c14ffa58>]"
      ]
     },
     "execution_count": 17,
     "metadata": {},
     "output_type": "execute_result"
    },
    {
     "data": {
      "image/png": "[encoded data removed]",
      "text/plain": [
       "<matplotlib.figure.Figure at 0x2e7c12086d8>"
      ]
     },
     "metadata": {},
     "output_type": "display_data"
    }
   ],
   "source": [
    "from scipy.integrate import odeint\n",
    "\n",
    "t = np.arange(t_0,time,dt)\n",
    "y = odeint(Fun,F_t0,t)\n",
    "\n",
    "py.plot(t,y)"
   ]
  },
  {
   "cell_type": "code",
   "execution_count": 18,
   "metadata": {
    "collapsed": false,
    "scrolled": true
   },
   "outputs": [
    {
     "data": {
      "text/plain": [
       "[<matplotlib.lines.Line2D at 0x2e7c15666a0>]"
      ]
     },
     "execution_count": 18,
     "metadata": {},
     "output_type": "execute_result"
    },
    {
     "data": {
      "image/png": "[encoded data removed]",
      "text/plain": [
       "<matplotlib.figure.Figure at 0x2e7c150dcc0>"
      ]
     },
     "metadata": {},
     "output_type": "display_data"
    }
   ],
   "source": [
    "y_0 = solveF(Fun,F_t0,time,dt)\n",
    "y_1 = odeint(Fun,F_t0,t)\n",
    "\n",
    "py.plot(t,(y_1.T - y_0.T)[0])"
   ]
  }
 ],
 "metadata": {
  "kernelspec": {
   "display_name": "Python 3",
   "language": "python",
   "name": "python3"
  },
  "language_info": {
   "codemirror_mode": {
    "name": "ipython",
    "version": 3
   },
   "file_extension": ".py",
   "mimetype": "text/x-python",
   "name": "python",
   "nbconvert_exporter": "python",
   "pygments_lexer": "ipython3",
   "version": "3.5.1"
  }
 },
 "nbformat": 4,
 "nbformat_minor": 0
}
