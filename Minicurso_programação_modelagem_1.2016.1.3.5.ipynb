{
 "cells": [
  {
   "cell_type": "code",
   "execution_count": null,
   "metadata": {
    "collapsed": true
   },
   "outputs": [],
   "source": [
    "# Pré-iGEM UFC\n",
    "## Minicurso de Programação e Modelagem em Biologia 1/2016.1\n",
    "#### Renato Marques de Oliveira"
   ]
  },
  {
   "cell_type": "markdown",
   "metadata": {},
   "source": [
    "## Parte 1 - Programação"
   ]
  },
  {
   "cell_type": "markdown",
   "metadata": {},
   "source": [
    "### Exemplo 1\n",
    "O código a seguir inicia nosso script para a aula. Ele carrega os pacotes que iremos utilizar.\n",
    "Antes de mais nada, carregamos o pacote de funções matemáticas **Numpy** e o pacote de criação de gráficos \n",
    "**Matplotlib**, que é distribuído sob o nome de \"pylab\". \n",
    "\n",
    "A primeira linha `%matplotlib inline` foi inserida para ativar a compatibilidade entre este *notebook* e o módulo Matplotlib, visto que o Jupyter Notebook é um ambiente de Python especial."
   ]
  },
  {
   "cell_type": "code",
   "execution_count": null,
   "metadata": {
    "collapsed": false
   },
   "outputs": [],
   "source": [
    "%matplotlib inline\n",
    "import numpy as np\n",
    "import pylab as py"
   ]
  },
  {
   "cell_type": "code",
   "execution_count": null,
   "metadata": {
    "collapsed": false
   },
   "outputs": [],
   "source": [
    "v1 = np.array([3,2,1])\n",
    "v1"
   ]
  },
  {
   "cell_type": "code",
   "execution_count": null,
   "metadata": {
    "collapsed": false
   },
   "outputs": [],
   "source": [
    "v1.sort()\n",
    "v1"
   ]
  },
  {
   "cell_type": "code",
   "execution_count": null,
   "metadata": {
    "collapsed": false
   },
   "outputs": [],
   "source": [
    "v2 = np.empty([2,2])\n",
    "v2"
   ]
  },
  {
   "cell_type": "markdown",
   "metadata": {},
   "source": [
    "### Exemplo 2"
   ]
  },
  {
   "cell_type": "code",
   "execution_count": null,
   "metadata": {
    "collapsed": false
   },
   "outputs": [],
   "source": [
    "class Complex:\n",
    "    def __init__(x, realpart, imagpart): # este \"x\" só pertence ao escopo deste bloco de definição de classe\n",
    "        x.r = realpart\n",
    "        x.i = imagpart\n",
    "        \n",
    "x = Complex(2,1) # este \"x\" é diferente do x utilizado na definição de classe acima\n",
    "x.i,x.r"
   ]
  },
  {
   "cell_type": "markdown",
   "metadata": {},
   "source": [
    "### Exemplo 3\n",
    " `def f(x,c)` é a sintaxe de declaração de uma função chamada\n",
    " `f` que recebe `x` e `c` como argumentos. Os dois pontos `:` denotam que há um\n",
    " bloco de comandos a partir da linha seguinte, pertencente à\n",
    " função `f`. Neste caso, o bloco é formado por apenas um comando:\n",
    " retorne o valor de `x**2 + c`, lembrando que `x**2` é a sintaxe do\n",
    " Python para a função quadrado. "
   ]
  },
  {
   "cell_type": "code",
   "execution_count": null,
   "metadata": {
    "collapsed": false
   },
   "outputs": [],
   "source": [
    "def f(x,c):\n",
    "    return x**2 + c \n",
    "\n",
    "x = np.linspace(-2,2,30)\n",
    "x"
   ]
  },
  {
   "cell_type": "markdown",
   "metadata": {},
   "source": [
    "A função `linspace(a,b,c)` retorna um vetor de `c` elementos, iniciando em `a`, terminando em `b`, igualmente espaçados. Ela gera a sequência de valores de `x` que vamos passar à função para plotagem.\n",
    "\n",
    "A função `plot(a,b)` plota o vetor `b` contra o vetor `a`, ambos de mesmo tamanho, na forma de pontos ${(a_1,b_1),...,(a_n,b_n)}$ se `a = [a1,...,an]` e `b = [b1,...,bn]`. O comando`f(x,.5)` gera um vetor de 30 elementos que corresponde à imagem do vetor `x` sob a função `f`."
   ]
  },
  {
   "cell_type": "code",
   "execution_count": null,
   "metadata": {
    "collapsed": false
   },
   "outputs": [],
   "source": [
    "p1 = py.plot(x, f(x,.05))\n",
    "#p2 = py.plot([0,2],[0,2])\n",
    "#show()\n",
    "# experimente apagar a porção \"p1 = \" do código acima\n",
    "# experimente descomentar a segunda linha"
   ]
  },
  {
   "cell_type": "markdown",
   "metadata": {},
   "source": [
    "Normalmente o Python não mostra instantaneamente os gráficos gerados, então precisamos pedir para que eles sejam mostrados através da função **show** do módulo Matplotlib. Mas o Jupyter Notebook é configurado para exibir os gráficos da função **plot** automaticamente sem precisarmos invocar o **show**.\n",
    "\n",
    "### Exercício 1\n",
    "\n",
    "* http://docs.scipy.org/doc/numpy/reference/routines.array-creation.html\n",
    "* http://docs.scipy.org/doc/numpy/reference/routines.random.html\n",
    "* http://docs.scipy.org/doc/numpy/reference/routines.statistics.html\n",
    "* http://docs.scipy.org/doc/numpy/reference/routines.math.html"
   ]
  },
  {
   "cell_type": "code",
   "execution_count": null,
   "metadata": {
    "collapsed": false
   },
   "outputs": [],
   "source": [
    "v1 = [1,2,3]\n",
    "v2 = [v1,v1]\n",
    "v3 = range(10)\n",
    "v1,v2,v3"
   ]
  },
  {
   "cell_type": "code",
   "execution_count": null,
   "metadata": {
    "collapsed": false
   },
   "outputs": [],
   "source": [
    "# exclua este comentário"
   ]
  },
  {
   "cell_type": "markdown",
   "metadata": {},
   "source": [
    "### Exercício 2\n",
    "#### Exemplo:"
   ]
  },
  {
   "cell_type": "code",
   "execution_count": null,
   "metadata": {
    "collapsed": false
   },
   "outputs": [],
   "source": [
    "x = np.ones(10)\n",
    "for i in x:\n",
    "    if np.sin(i) > .5:\n",
    "        print(i)"
   ]
  },
  {
   "cell_type": "code",
   "execution_count": null,
   "metadata": {
    "collapsed": false
   },
   "outputs": [],
   "source": [
    "# exclua este comentário"
   ]
  },
  {
   "cell_type": "markdown",
   "metadata": {},
   "source": [
    "### Exercício 3\n",
    "O código usado no exemplo abaixo foi escrito com funções práticas e atalhos para facilitar a leitura e por simplicidade. Mas como você faria sem lançar mão dessas ferramentas?\n",
    "#### Exemplo:"
   ]
  },
  {
   "cell_type": "code",
   "execution_count": null,
   "metadata": {
    "collapsed": false
   },
   "outputs": [],
   "source": [
    "x = np.ones(10)\n",
    "\n",
    "def media(vetor):\n",
    "    return np.sum(vetor)/len(vetor)\n",
    "    \n",
    "a = np.random.rand(30,3)\n",
    "#y = np.zeros(30)\n",
    "\n",
    "y = [media(i) for i in a] #opa! Trapaça!\n",
    "    \n",
    "py.plot(y,'bo')"
   ]
  },
  {
   "cell_type": "code",
   "execution_count": null,
   "metadata": {
    "collapsed": false
   },
   "outputs": [],
   "source": [
    "# exclua este comentário"
   ]
  },
  {
   "cell_type": "markdown",
   "metadata": {},
   "source": [
    "## Parte 2 - Integração Numérica\n",
    "\n",
    "### Exercício 4\n",
    "\n",
    "Defina uma função que aplique o procedimento abaixo à uma equação diferencial da sua escolha, e que permita ao usuário decidir tanto a condição inicial $F(t_0)$ quanto o número de passos `steps`. \n",
    "$$ F(t_{n+1}) \\approx F(t_n) + F'(t_n)(\\Delta t) $$\n",
    "#### Exemplo:\n",
    "Vamos aplicar o procedimento à função $f'(t) = -f(t)^2 + 2$"
   ]
  },
  {
   "cell_type": "code",
   "execution_count": null,
   "metadata": {
    "collapsed": false,
    "scrolled": true
   },
   "outputs": [],
   "source": [
    "def Fun(f,t=0):\n",
    "    return -f**2 + 2   # o que acontece se você mudar o valor da constante (2)? você consegue explicar porquê?\n",
    "                       # e se você mudar o sinal do termo -x**2?\n",
    "def solveF(F, F_t0, time, dt):\n",
    "    steps = (int(time/dt))\n",
    "    F_t = np.zeros(steps)\n",
    "    F_t[0] = F_t0\n",
    "    for i in range(1,steps):\n",
    "        F_t[i] = F_t[i - 1] + F(F_t[i - 1])*dt\n",
    "    return F_t\n",
    "\n",
    "t_0 = 0\n",
    "time = 10\n",
    "dt = .01\n",
    "F_t0 = -1.4\n",
    "\n",
    "x_axis = np.arange(0,time,dt)\n",
    "y_axis = solveF(Fun,F_t0,time,dt)\n",
    "py.plot(x_axis,y_axis)"
   ]
  },
  {
   "cell_type": "code",
   "execution_count": null,
   "metadata": {
    "collapsed": false
   },
   "outputs": [],
   "source": [
    "from scipy.integrate import odeint\n",
    "\n",
    "t = np.arange(t_0,time,dt)\n",
    "y = odeint(Fun,F_t0,t)\n",
    "\n",
    "py.plot(t,y)"
   ]
  },
  {
   "cell_type": "code",
   "execution_count": null,
   "metadata": {
    "collapsed": false,
    "scrolled": true
   },
   "outputs": [],
   "source": [
    "y_0 = solveF(Fun,F_t0,time,dt)\n",
    "y_1 = odeint(Fun,F_t0,t)\n",
    "\n",
    "py.plot(t,(y_1.T - y_0.T)[0])"
   ]
  },
  {
   "cell_type": "markdown",
   "metadata": {},
   "source": [
    "## Parte 3 - Sistemas dinâmicos\n",
    "### Pontos fixos\n",
    "A função $f'(t) = -f(t)^2 + 2$ se assemelha muito ao crescimento logístico:\n",
    "$$ g'(t) = r\\left(1 - \\frac{g(t)}{K}\\right)g(t) \\\\\n",
    "   g'(t) = -r\\frac{g(t)^2}{K} + rg(t)\n",
    "$$\n",
    "Quais são os pontos fixos de $g(t)$? \n",
    "\n",
    "Para encontrá-los, vamos lançar mão do módulo Sympy, que nos permite fazer operações com matemática simbólica. "
   ]
  },
  {
   "cell_type": "code",
   "execution_count": null,
   "metadata": {
    "collapsed": false
   },
   "outputs": [],
   "source": [
    "import sympy as sy\n",
    "sy.init_printing() # este comando faz com que o resultado de uma operação do Sympy seja representada em escrita matemática\n",
    "\n",
    "g,r,k = sy.symbols('g r K')\n",
    "dg = sy.S('r*g -r*g**2/K')\n",
    "dg"
   ]
  },
  {
   "cell_type": "markdown",
   "metadata": {},
   "source": [
    "O método `solve` nos permite encontrar os pontos fixos, ou seja, encontrar os \"zeros\" de $g'(x)$."
   ]
  },
  {
   "cell_type": "code",
   "execution_count": null,
   "metadata": {
    "collapsed": false,
    "scrolled": true
   },
   "outputs": [],
   "source": [
    "sy.solve(dg,g)"
   ]
  },
  {
   "cell_type": "code",
   "execution_count": null,
   "metadata": {
    "collapsed": false,
    "scrolled": false
   },
   "outputs": [],
   "source": [
    "dg_dt = sy.lambdify((g,r,k),dg,\"numpy\")\n",
    "g_t = np.linspace(-3,3,100)\n",
    "\n",
    "r_plot = .5\n",
    "k_plot = 2.5\n",
    "\n",
    "py.plot(g_t,dg_dt(g_t,r_plot,k_plot))\n",
    "py.plot([-3,3],[0,0],'k')\n",
    "py.plot([0,0],[-2,2],'k')\n",
    "py.axis([-3,3,-2,1])\n",
    "py.ylabel(r\"$g'(t)$\",size=20),py.xlabel(r\"$t$\",size=20),py.title('Retrato de fase global',size=14)"
   ]
  },
  {
   "cell_type": "code",
   "execution_count": null,
   "metadata": {
    "collapsed": false
   },
   "outputs": [],
   "source": [
    "dg.diff(g)"
   ]
  },
  {
   "cell_type": "markdown",
   "metadata": {},
   "source": []
  },
  {
   "cell_type": "code",
   "execution_count": null,
   "metadata": {
    "collapsed": false
   },
   "outputs": [],
   "source": [
    "x = np.linspace(0,15,20)\n",
    "y = np.linspace(0,4,20)\n",
    "x, y = np.meshgrid(x, y)\n",
    "\n",
    "xv = x/x\n",
    "yv = dg_dt(y, r_plot, k_plot)\n",
    "\n",
    "#M = (np.hypot(x, yv)) # normalizando os vetores\n",
    "#M[ M == 0] = 1       # garante que não dividamos por zero na linha abaixo\n",
    "py.quiver(x, y, xv , yv, pivot='mid',scale=25)\n",
    "py.xlabel('$t$',size=20),py.ylabel('$g(t)$',size=20),py.title(\"Fluxo\",size=14)"
   ]
  },
  {
   "cell_type": "markdown",
   "metadata": {},
   "source": [
    "Vamos calcular uma trajetória do nosso sistema e superimpor essa trajetória sobre o gráfico do fluxo."
   ]
  },
  {
   "cell_type": "code",
   "execution_count": null,
   "metadata": {
    "collapsed": false,
    "scrolled": true
   },
   "outputs": [],
   "source": [
    "def dg_dt2(g, t, r = r_plot,k = k_plot): return dg_dt(g,r,k)\n",
    "\n",
    "t_traj = np.arange(0,15,.01)\n",
    "g_0_traj = .1\n",
    "\n",
    "traj = odeint(dg_dt2, g_0_traj, t_traj)\n",
    "py.plot(t_traj,traj)\n",
    "py.quiver(x, y, xv , yv, pivot='tip', scale=25)"
   ]
  },
  {
   "cell_type": "markdown",
   "metadata": {},
   "source": [
    "#### Exercício\n",
    "\n",
    "O que acontece quando $K = 0$?"
   ]
  },
  {
   "cell_type": "markdown",
   "metadata": {},
   "source": [
    "## Modelo de Dinâmica de Plâncton-Oxigênio\n",
    "**Sekerci e Petrovskii, 2015. Bull Math Biol doi:10.1007/s11538-015-0126-0**"
   ]
  },
  {
   "cell_type": "code",
   "execution_count": null,
   "metadata": {
    "collapsed": false
   },
   "outputs": [],
   "source": [
    "sy.var('c c1 c2 u a d b s')\n",
    "dc = a*u/(c + 1) - d*u*c/(c + c2) - c\n",
    "du = (b*c/(c + c1) - u)*u - s*u\n",
    "[dc,du]"
   ]
  },
  {
   "cell_type": "code",
   "execution_count": null,
   "metadata": {
    "collapsed": false,
    "scrolled": true
   },
   "outputs": [],
   "source": [
    "isoc_c = sy.solve(dc,u)[0]\n",
    "isoc_c = sy.factor(isoc_c)\n",
    "isoc_u = sy.solve(du,u,force=True)\n",
    "isoc_u = sy.factor(isoc_u)\n",
    "isoc_c,isoc_u"
   ]
  },
  {
   "cell_type": "markdown",
   "metadata": {},
   "source": [
    "O `solve` não consegue encontrar as soluções adequadas para a isóclina nula de $u$. Ele não é capaz de utilizar a suposição de que $u > 0$.\n",
    "\n",
    "Portanto, vamos definir manualmente a isóclina de $u$ abaixo."
   ]
  },
  {
   "cell_type": "code",
   "execution_count": null,
   "metadata": {
    "collapsed": false
   },
   "outputs": [],
   "source": [
    "isoc_u = b*c/(c + c1) - s\n",
    "# Parâmetros\n",
    "p = {\n",
    "    'c2' : 1,\n",
    "    'd'  : 1,\n",
    "    'A'  : 5,\n",
    "    'B'  : 1.8,\n",
    "    's'  : .1,\n",
    "    'c1' : .7\n",
    "}\n",
    "isoc_c2 = sy.lambdify((c, c2, d, a), isoc_c, \"numpy\")\n",
    "isoc_u2 = sy.lambdify((c,b,c1,s), isoc_u, 'numpy')\n",
    "\n",
    "c_axis = np.arange(0,3,.1)\n",
    "\n",
    "py.plot(c_axis, isoc_c2(c_axis, p['c2'], p['d'], p['A']), 'k', label='Isoc $c$')\n",
    "py.plot(c_axis, isoc_u2(c_axis, p['B'], p['c1'], p['s']), 'r',label='Isoc $u$')\n",
    "py.axis([0, 3, 0, 1.5])\n",
    "py.legend(loc='best')\n",
    "py.title('Isóclinas', size=14), py.xlabel('c', size=20), py.ylabel('u', size=20)"
   ]
  },
  {
   "cell_type": "markdown",
   "metadata": {
    "collapsed": false
   },
   "source": [
    "Vamos colocar um *fluxo* (campo vetorial) no nosso *phase plot*."
   ]
  },
  {
   "cell_type": "code",
   "execution_count": null,
   "metadata": {
    "collapsed": false,
    "scrolled": true
   },
   "outputs": [],
   "source": [
    "py.plot(c_axis, isoc_c2(c_axis, p['c2'], p['d'], p['A']), 'k', label='Isoc $c$')\n",
    "py.plot(c_axis, isoc_u2(c_axis, p['B'], p['c1'], p['s']), 'r',label='Isoc $u$')\n",
    "py.axis([-.1, 3, -.1, 1.5])\n",
    "py.legend(loc='best')\n",
    "py.title('Espaço de fase', size=14), py.xlabel('c', size=20), py.ylabel('u', size=20)\n",
    "\n",
    "dc_dt = np.vectorize(sy.lambdify((c, u, a, d, c2), dc, 'numpy'))\n",
    "du_dt = np.vectorize(sy.lambdify((c, u, b, c1, s), du, 'numpy'))\n",
    "\n",
    "x = np.linspace(0, 3,20)\n",
    "y = np.linspace(0,1.5,20)\n",
    "x,y = np.meshgrid(x,y)\n",
    "\n",
    "xv = dc_dt(x, y, p['A'], p['d'], p['c2']) \n",
    "yv = du_dt(x, y, p['B'],p['c1'],p['s'])\n",
    "\n",
    "m = (np.hypot(xv,yv))\n",
    "m[ m == 0] = 1.\n",
    "xv /= m\n",
    "yv /= m\n",
    "\n",
    "Q = py.quiver(x, y, xv, yv,pivot='tip')"
   ]
  },
  {
   "cell_type": "markdown",
   "metadata": {},
   "source": [
    "E, por fim, vamos colocar algumas trajetórias."
   ]
  },
  {
   "cell_type": "code",
   "execution_count": null,
   "metadata": {
    "collapsed": false
   },
   "outputs": [],
   "source": [
    "py.plot(c_axis, isoc_c2(c_axis, p['c2'], p['d'], p['A']), 'k', label='Isoc $c$')\n",
    "py.plot(c_axis, isoc_u2(c_axis, p['B'], p['c1'], p['s']), 'r',label='Isoc $u$')\n",
    "py.axis([-.1, 3, -.1, 1.5])\n",
    "py.legend(loc='best')\n",
    "py.title('Espaço de fase', size=14), py.xlabel('c', size=20), py.ylabel('u', size=20)\n",
    "\n",
    "dc_dt = np.vectorize(sy.lambdify((c, u, a, d, c2), dc, 'numpy'))\n",
    "du_dt = np.vectorize(sy.lambdify((c, u, b, c1, s), du, 'numpy'))\n",
    "\n",
    "x = np.linspace(0, 3,20)\n",
    "y = np.linspace(0,1.5,20)\n",
    "x,y = np.meshgrid(x,y)\n",
    "\n",
    "xv = dc_dt(x, y, p['A'], p['d'], p['c2']) \n",
    "yv = du_dt(x, y, p['B'],p['c1'],p['s'])\n",
    "\n",
    "m = (np.hypot(xv,yv))\n",
    "m[ m == 0] = 1.\n",
    "xv /= m\n",
    "yv /= m\n",
    "\n",
    "Q = py.quiver(x, y, xv, yv,pivot='tip')\n",
    "\n",
    "def dx_dt(x,t):\n",
    "    c, u = x[0], x[1]    \n",
    "    return np.array([dc_dt(c, u, p['A'], p['d'], p['c2']), du_dt(c, u,  p['B'],p['c1'],p['s'])])\n",
    "\n",
    "t_int = np.arange(0,10,.01)\n",
    "\n",
    "X_t0 = odeint(dx_dt,[.2,.2],t_int)\n",
    "py.plot(X_t0.T[0],X_t0.T[1],'b')\n",
    "\n",
    "X_t1 = odeint(dx_dt,[.2,.8],t_int)\n",
    "py.plot(X_t1.T[0],X_t1.T[1],'g')\n",
    "\n",
    "X_t2 = odeint(dx_dt,[2,.2],t_int)\n",
    "py.plot(X_t2.T[0],X_t2.T[1],'y')\n",
    "\n",
    "X_t3 = odeint(dx_dt,[3,1.2],t_int)\n",
    "py.plot(X_t3.T[0],X_t3.T[1],'c')\n",
    "\n",
    "X_t4 = odeint(dx_dt,[2.5,0],t_int)\n",
    "py.plot(X_t4.T[0],X_t4.T[1],'m')\n"
   ]
  },
  {
   "cell_type": "code",
   "execution_count": null,
   "metadata": {
    "collapsed": false
   },
   "outputs": [],
   "source": [
    "c_points = 1000\n",
    "a_axis = np.linspace(.01,7,c_points)\n",
    "c_axis2 = np.linspace(0,2.5,c_points)\n",
    "\n",
    "c_a = np.zeros(c_points)\n",
    "\n",
    "#c_val = np.zeros([c_points,c_points])\n",
    "\n",
    "i_u = isoc_u2(c_axis2, p['B'], p['c1'], p['s'])\n",
    "for i in range(c_points):\n",
    "    i_c = isoc_c2(c_axis2, p['c2'], p['d'], a_axis[i])\n",
    "    idx = (np.abs(i_c - i_u)).argmin()\n",
    "    c_a[i] = i_u[idx] if i_c[idx] - i_u[idx] < 10e-3 else 0\n",
    "    \n",
    "py.plot(a_axis,c_a,'ro')\n",
    "py.axis([-.1,7,-0.1,1.4])"
   ]
  },
  {
   "cell_type": "code",
   "execution_count": null,
   "metadata": {
    "collapsed": false,
    "scrolled": true
   },
   "outputs": [],
   "source": [
    "(np.abs(i_c - i_u)).argmin()"
   ]
  },
  {
   "cell_type": "markdown",
   "metadata": {},
   "source": [
    "### Estabilidade dos pontos fixos (modo analítico)\n",
    "Logo abaixo nós encontramos os autovalores para o equilíbrio trivial."
   ]
  },
  {
   "cell_type": "code",
   "execution_count": null,
   "metadata": {
    "collapsed": false
   },
   "outputs": [],
   "source": [
    "au = sy.symbols('lamda')\n",
    "jacobian = sy.Matrix([[dc.diff(c), dc.diff(u)], [du.diff(c), du.diff(u)]])\n",
    "jacobian"
   ]
  },
  {
   "cell_type": "code",
   "execution_count": null,
   "metadata": {
    "collapsed": false
   },
   "outputs": [],
   "source": [
    "jacobian_E0 = jacobian.subs([(c,0),(u,0),(c2,p['c2']),(d,p['d']),(a,p['A']),(b,p['B']),(s,p['s']),(c1,p['c1'])])\n",
    "jacobian_E0.eigenvals()"
   ]
  },
  {
   "cell_type": "markdown",
   "metadata": {},
   "source": [
    "Em seguida, buscamos os valores de $c$ e $u$ para o ponto de equilíbrio não-trivial e os utilizamos para calcular os seus autovalores. "
   ]
  },
  {
   "cell_type": "code",
   "execution_count": null,
   "metadata": {
    "collapsed": false
   },
   "outputs": [],
   "source": [
    "c_t, u_t = X_t3.T\n",
    "c_e, u_e = c_t[-1], u_t[-1]\n",
    "\n",
    "jacobian_E1 = jacobian.subs([(c,c_e),(u,u_e),(c2,p['c2']),(d,p['d']),(a,p['A']),(b,p['B']),(s,p['s']),(c1,p['c1'])])\n",
    "#eigens_E1 = sy.factor(jacobian_E1.det())\n",
    "#sy.solve(eigens_E1,au)\n",
    "jacobian_E1"
   ]
  },
  {
   "cell_type": "code",
   "execution_count": null,
   "metadata": {
    "collapsed": false
   },
   "outputs": [],
   "source": [
    "jacobian_E1.eigenvals()"
   ]
  }
 ],
 "metadata": {
  "kernelspec": {
   "display_name": "Python 3",
   "language": "python",
   "name": "python3"
  },
  "language_info": {
   "codemirror_mode": {
    "name": "ipython",
    "version": 3
   },
   "file_extension": ".py",
   "mimetype": "text/x-python",
   "name": "python",
   "nbconvert_exporter": "python",
   "pygments_lexer": "ipython3",
   "version": "3.5.1"
  }
 },
 "nbformat": 4,
 "nbformat_minor": 0
}
