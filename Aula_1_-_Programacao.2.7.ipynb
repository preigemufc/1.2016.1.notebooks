{
 "metadata": {
  "name": "",
  "signature": "sha256:8dc2bbbd09f54588b9c659461e076c3a6c2158d8a556d7261f296356ba1ce6a7"
 },
 "nbformat": 3,
 "nbformat_minor": 0,
 "worksheets": [
  {
   "cells": [
    {
     "cell_type": "markdown",
     "metadata": {},
     "source": [
      "# Pr\u00e9-iGEM UFC\n",
      "## Minicurso de Programa\u00e7\u00e3o e Modelagem em Biologia 1/2016.1\n",
      "#### Renato Marques de Oliveira"
     ]
    },
    {
     "cell_type": "markdown",
     "metadata": {},
     "source": [
      "## Parte 1 - Programa\u00e7\u00e3o"
     ]
    },
    {
     "cell_type": "markdown",
     "metadata": {},
     "source": [
      "### Exemplo 1\n",
      "O c\u00f3digo a seguir inicia nosso script para a aula. Ele carrega os pacotes que iremos utilizar.\n",
      "Antes de mais nada, carregamos o pacote de fun\u00e7\u00f5es matem\u00e1ticas **Numpy** e o pacote de cria\u00e7\u00e3o de gr\u00e1ficos \n",
      "**Matplotlib**, que \u00e9 distribu\u00eddo sob o nome de \"pylab\". \n",
      "\n",
      "A primeira linha `%matplotlib inline` foi inserida para ativar a compatibilidade entre este *notebook* e o m\u00f3dulo Matplotlib, visto que o Jupyter Notebook \u00e9 um ambiente de Python especial."
     ]
    },
    {
     "cell_type": "code",
     "collapsed": false,
     "input": [
      "%matplotlib inline\n",
      "import numpy as np\n",
      "import pylab as py"
     ],
     "language": "python",
     "metadata": {},
     "outputs": []
    },
    {
     "cell_type": "code",
     "collapsed": false,
     "input": [
      "v1 = np.array([3,2,1])\n",
      "v1"
     ],
     "language": "python",
     "metadata": {},
     "outputs": []
    },
    {
     "cell_type": "code",
     "collapsed": false,
     "input": [
      "v1.sort()\n",
      "v1"
     ],
     "language": "python",
     "metadata": {},
     "outputs": []
    },
    {
     "cell_type": "code",
     "collapsed": false,
     "input": [
      "v2 = np.empty([2,2])\n",
      "v2"
     ],
     "language": "python",
     "metadata": {},
     "outputs": []
    },
    {
     "cell_type": "markdown",
     "metadata": {},
     "source": [
      "### Exemplo 2"
     ]
    },
    {
     "cell_type": "code",
     "collapsed": false,
     "input": [
      "class Complex:\n",
      "    def __init__(x, realpart, imagpart):\n",
      "        x.r = realpart\n",
      "        x.i = imagpart\n",
      "        \n",
      "x = Complex(2,1)\n",
      "x.i,x.r"
     ],
     "language": "python",
     "metadata": {},
     "outputs": []
    },
    {
     "cell_type": "markdown",
     "metadata": {},
     "source": [
      "### Exemplo 3\n",
      " `def f(x,c)` \u00e9 a sintaxe de declara\u00e7\u00e3o de uma fun\u00e7\u00e3o chamada\n",
      " `f` que recebe `x` e `c` como argumentos. Os dois pontos `:` denotam que h\u00e1 um\n",
      " bloco de comandos a partir da linha seguinte, pertencente \u00e0\n",
      " fun\u00e7\u00e3o `f`. Neste caso, o bloco \u00e9 formado por apenas um comando:\n",
      " retorne o valor de `x**2 + c`, lembrando que `x**2` \u00e9 a sintaxe do\n",
      " Python para a fun\u00e7\u00e3o quadrado. "
     ]
    },
    {
     "cell_type": "code",
     "collapsed": false,
     "input": [
      "def f(x,c):\n",
      "    return x**2 + c \n",
      "\n",
      "x = np.linspace(-2,2,30)\n",
      "x"
     ],
     "language": "python",
     "metadata": {},
     "outputs": []
    },
    {
     "cell_type": "markdown",
     "metadata": {},
     "source": [
      "A fun\u00e7\u00e3o `linspace(a,b,c)` retorna um vetor de `c` elementos, iniciando em `a`, terminando em `b`, igualmente espa\u00e7ados. Ela gera a sequ\u00eancia de valores de `x` que vamos passar \u00e0 fun\u00e7\u00e3o para plotagem.\n",
      "\n",
      "A fun\u00e7\u00e3o `plot(a,b)` plota o vetor `b` contra o vetor `a`, ambos de mesmo tamanho, na forma de pontos ${(a_1,b_1),...,(a_n,b_n)}$ se `a = [a1,...,an]` e `b = [b1,...,bn]`. O comando`f(x,.5)` gera um vetor de 30 elementos que corresponde \u00e0 imagem do vetor `x` sob a fun\u00e7\u00e3o `f`."
     ]
    },
    {
     "cell_type": "code",
     "collapsed": false,
     "input": [
      "p1 = py.plot(x, f(x,.05))\n",
      "#p2 = py.plot([0,2],[0,2])\n",
      "# experimente apagar a por\u00e7\u00e3o \"p1 = \" do c\u00f3digo acima\n",
      "# experimente descomentar a segunda linha"
     ],
     "language": "python",
     "metadata": {},
     "outputs": []
    },
    {
     "cell_type": "markdown",
     "metadata": {},
     "source": [
      "Normalmente o Python n\u00e3o mostra instantaneamente os gr\u00e1ficos gerados, ent\u00e3o precisamos pedir para que eles sejam mostrados atrav\u00e9s da fun\u00e7\u00e3o **show** do m\u00f3dulo Matplotlib. Mas o Jupyter Notebook \u00e9 configurado para exibir os gr\u00e1ficos da fun\u00e7\u00e3o **plot** automaticamente sem precisarmos invocar o **show**.\n",
      "\n",
      "### Exerc\u00edcio 1\n",
      "\n",
      "* http://docs.scipy.org/doc/numpy/reference/routines.array-creation.html\n",
      "* http://docs.scipy.org/doc/numpy/reference/routines.random.html\n",
      "* http://docs.scipy.org/doc/numpy/reference/routines.statistics.html\n",
      "* http://docs.scipy.org/doc/numpy/reference/routines.math.html"
     ]
    },
    {
     "cell_type": "code",
     "collapsed": false,
     "input": [
      "v1 = [1,2,3]\n",
      "v2 = [v1,v1]\n",
      "v3 = range(10)\n",
      "v1,v2,v3"
     ],
     "language": "python",
     "metadata": {},
     "outputs": []
    },
    {
     "cell_type": "code",
     "collapsed": false,
     "input": [
      "# exclua este coment\u00e1rio"
     ],
     "language": "python",
     "metadata": {},
     "outputs": []
    },
    {
     "cell_type": "markdown",
     "metadata": {},
     "source": [
      "### Exerc\u00edcio 2\n",
      "#### Exemplo:"
     ]
    },
    {
     "cell_type": "code",
     "collapsed": false,
     "input": [
      "x = np.ones(10)\n",
      "for i in x:\n",
      "    if np.sin(i) > .5:\n",
      "        print(i)"
     ],
     "language": "python",
     "metadata": {},
     "outputs": []
    },
    {
     "cell_type": "code",
     "collapsed": false,
     "input": [
      "# exclua este coment\u00e1rio"
     ],
     "language": "python",
     "metadata": {},
     "outputs": []
    },
    {
     "cell_type": "markdown",
     "metadata": {},
     "source": [
      "### Exerc\u00edcio 3\n",
      "\n",
      "#### Exemplo:"
     ]
    },
    {
     "cell_type": "code",
     "collapsed": false,
     "input": [
      "x = np.ones(10)\n",
      "\n",
      "def media(vetor):\n",
      "    return np.sum(vetor)/len(vetor)\n",
      "    \n",
      "a = np.random.rand(30,3)\n",
      "#y = np.zeros(30)\n",
      "\n",
      "y = [media(i) for i in a] #opa! Trapa\u00e7a!\n",
      "    \n",
      "py.plot(y)"
     ],
     "language": "python",
     "metadata": {},
     "outputs": []
    },
    {
     "cell_type": "code",
     "collapsed": false,
     "input": [
      "# exclua este coment\u00e1rio"
     ],
     "language": "python",
     "metadata": {},
     "outputs": []
    },
    {
     "cell_type": "markdown",
     "metadata": {},
     "source": [
      "## Parte 2 - Integra\u00e7\u00e3o Num\u00e9rica\n",
      "\n",
      "### Exerc\u00edcio 4"
     ]
    },
    {
     "cell_type": "code",
     "collapsed": false,
     "input": [
      "# exclua este coment\u00e1rio"
     ],
     "language": "python",
     "metadata": {},
     "outputs": []
    }
   ],
   "metadata": {}
  }
 ]
}