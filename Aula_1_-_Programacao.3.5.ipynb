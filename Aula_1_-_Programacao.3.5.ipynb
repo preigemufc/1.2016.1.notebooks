{
 "cells": [
  {
   "cell_type": "markdown",
   "metadata": {},
   "source": [
    "# Pré-iGEM UFC\n",
    "## Minicurso de Programação e Modelagem em Biologia 1/2016.1\n",
    "#### Renato Marques de Oliveira"
   ]
  },
  {
   "cell_type": "markdown",
   "metadata": {},
   "source": [
    "## Parte 1 - Programação"
   ]
  },
  {
   "cell_type": "markdown",
   "metadata": {},
   "source": [
    "### Exemplo 1\n",
    "O código a seguir inicia nosso script para a aula. Ele carrega os pacotes que iremos utilizar.\n",
    "Antes de mais nada, carregamos o pacote de funções matemáticas **Numpy** e o pacote de criação de gráficos \n",
    "**Matplotlib**, que é distribuído sob o nome de \"pylab\". \n",
    "\n",
    "A primeira linha `%matplotlib inline` foi inserida para ativar a compatibilidade entre este *notebook* e o módulo Matplotlib, visto que o Jupyter Notebook é um ambiente de Python especial."
   ]
  },
  {
   "cell_type": "code",
   "execution_count": 1,
   "metadata": {
    "collapsed": false
   },
   "outputs": [],
   "source": [
    "%matplotlib inline\n",
    "import numpy as np\n",
    "import pylab as py"
   ]
  },
  {
   "cell_type": "code",
   "execution_count": 2,
   "metadata": {
    "collapsed": false
   },
   "outputs": [
    {
     "data": {
      "text/plain": [
       "array([3, 2, 1])"
      ]
     },
     "execution_count": 2,
     "metadata": {},
     "output_type": "execute_result"
    }
   ],
   "source": [
    "v1 = np.array([3,2,1])\n",
    "v1"
   ]
  },
  {
   "cell_type": "code",
   "execution_count": null,
   "metadata": {
    "collapsed": false,
    "scrolled": true
   },
   "outputs": [],
   "source": [
    "v1.sort()\n",
    "v1"
   ]
  },
  {
   "cell_type": "code",
   "execution_count": null,
   "metadata": {
    "collapsed": false,
    "scrolled": true
   },
   "outputs": [],
   "source": [
    "v2 = np.empty([2,2])\n",
    "v2"
   ]
  },
  {
   "cell_type": "markdown",
   "metadata": {},
   "source": [
    "### Exemplo 2"
   ]
  },
  {
   "cell_type": "code",
   "execution_count": null,
   "metadata": {
    "collapsed": false
   },
   "outputs": [],
   "source": [
    "class Complex:\n",
    "    def __init__(x, realpart, imagpart):\n",
    "        x.r = realpart\n",
    "        x.i = imagpart\n",
    "        \n",
    "x = Complex(2,1)\n",
    "x.i,x.r"
   ]
  },
  {
   "cell_type": "markdown",
   "metadata": {},
   "source": [
    "### Exemplo 3\n",
    " `def f(x,c)` é a sintaxe de declaração de uma função chamada\n",
    " `f` que recebe `x` e `c` como argumentos. Os dois pontos `:` denotam que há um\n",
    " bloco de comandos a partir da linha seguinte, pertencente à\n",
    " função `f`. Neste caso, o bloco é formado por apenas um comando:\n",
    " retorne o valor de `x**2 + c`, lembrando que `x**2` é a sintaxe do\n",
    " Python para a função quadrado. "
   ]
  },
  {
   "cell_type": "code",
   "execution_count": null,
   "metadata": {
    "collapsed": false
   },
   "outputs": [],
   "source": [
    "def f(x,c):\n",
    "    return x**2 + c \n",
    "\n",
    "x = np.linspace(-2,2,30)\n",
    "x"
   ]
  },
  {
   "cell_type": "markdown",
   "metadata": {},
   "source": [
    "A função `linspace(a,b,c)` retorna um vetor de `c` elementos, iniciando em `a`, terminando em `b`, igualmente espaçados. Ela gera a sequência de valores de `x` que vamos passar à função para plotagem."
   ]
  },
  {
   "cell_type": "markdown",
   "metadata": {},
   "source": [
    "A função `plot(a,b)` plota o vetor `b` contra o vetor `a`, ambos de mesmo tamanho, na forma de pontos ${(a_1,b_1),...,(a_n,b_n)}$ se `a = [a1,...,an]` e `b = [b1,...,bn]`. O comando`f(x,.5)` gera um vetor de 30 elementos que corresponde à imagem do vetor `x` sob a função `f`."
   ]
  },
  {
   "cell_type": "code",
   "execution_count": null,
   "metadata": {
    "collapsed": false
   },
   "outputs": [],
   "source": [
    "p1 = py.plot(x, f(x,.05))\n",
    "#p2 = py.plot([0,2],[0,2])\n",
    "# experimente apagar a porção \"p1 = \" do código acima\n",
    "# experimente descomentar a segunda linha"
   ]
  },
  {
   "cell_type": "markdown",
   "metadata": {
    "collapsed": true
   },
   "source": [
    "Normalmente o Python não mostra instantaneamente os gráficos gerados, então precisamos pedir para que eles sejam mostrados através da função **show** do módulo Matplotlib. Mas o Jupyter Notebook é configurado para exibir os gráficos da função **plot** automaticamente sem precisarmos invocar o **show**."
   ]
  },
  {
   "cell_type": "markdown",
   "metadata": {},
   "source": [
    "### Exercício 1\n",
    "\n",
    "* http://docs.scipy.org/doc/numpy/reference/routines.array-creation.html\n",
    "* http://docs.scipy.org/doc/numpy/reference/routines.random.html\n",
    "* http://docs.scipy.org/doc/numpy/reference/routines.statistics.html\n",
    "* http://docs.scipy.org/doc/numpy/reference/routines.math.html"
   ]
  },
  {
   "cell_type": "code",
   "execution_count": null,
   "metadata": {
    "collapsed": false
   },
   "outputs": [],
   "source": [
    "v1 = [1,2,3]\n",
    "v2 = [v1,v1]\n",
    "v3 = range(10)\n",
    "v1,v2,v3"
   ]
  },
  {
   "cell_type": "code",
   "execution_count": null,
   "metadata": {
    "collapsed": false
   },
   "outputs": [],
   "source": [
    "# exclua este comentário"
   ]
  },
  {
   "cell_type": "markdown",
   "metadata": {},
   "source": [
    "### Exercício 2\n",
    "#### Exemplo:"
   ]
  },
  {
   "cell_type": "code",
   "execution_count": null,
   "metadata": {
    "collapsed": false
   },
   "outputs": [],
   "source": [
    "x = np.ones(10)\n",
    "for i in x:\n",
    "    if np.sin(i) > .5:\n",
    "        print(i)"
   ]
  },
  {
   "cell_type": "code",
   "execution_count": null,
   "metadata": {
    "collapsed": true
   },
   "outputs": [],
   "source": [
    "# exclua este comentário"
   ]
  },
  {
   "cell_type": "markdown",
   "metadata": {},
   "source": [
    "### Exercício 3\n",
    "\n",
    "#### Exemplo:"
   ]
  },
  {
   "cell_type": "code",
   "execution_count": null,
   "metadata": {
    "collapsed": false,
    "scrolled": true
   },
   "outputs": [],
   "source": [
    "x = np.ones(10)\n",
    "\n",
    "def media(vetor):\n",
    "    return np.sum(vetor)/len(vetor)\n",
    "    \n",
    "a = np.random.rand(30,3)\n",
    "#y = np.zeros(30)\n",
    "\n",
    "y = [media(i) for i in a] #opa! Trapaça!\n",
    "    \n",
    "py.plot(y)"
   ]
  },
  {
   "cell_type": "code",
   "execution_count": null,
   "metadata": {
    "collapsed": true
   },
   "outputs": [],
   "source": [
    "# exclua este comentário"
   ]
  },
  {
   "cell_type": "markdown",
   "metadata": {},
   "source": [
    "## Parte 2 - Integração Numérica"
   ]
  },
  {
   "cell_type": "markdown",
   "metadata": {},
   "source": [
    "### Exercício 4"
   ]
  },
  {
   "cell_type": "code",
   "execution_count": null,
   "metadata": {
    "collapsed": true
   },
   "outputs": [],
   "source": [
    "# exclua este comentário"
   ]
  }
 ],
 "metadata": {
  "kernelspec": {
   "display_name": "Python 3",
   "language": "python",
   "name": "python3"
  },
  "language_info": {
   "codemirror_mode": {
    "name": "ipython",
    "version": 3
   },
   "file_extension": ".py",
   "mimetype": "text/x-python",
   "name": "python",
   "nbconvert_exporter": "python",
   "pygments_lexer": "ipython3",
   "version": "3.5.1"
  }
 },
 "nbformat": 4,
 "nbformat_minor": 0
}
